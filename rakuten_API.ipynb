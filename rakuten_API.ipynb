{
  "nbformat": 4,
  "nbformat_minor": 0,
  "metadata": {
    "colab": {
      "name": "rakuten_API.ipynb",
      "provenance": [],
      "collapsed_sections": [],
      "authorship_tag": "ABX9TyNJhnwieVUCchsucn3nhtYU",
      "include_colab_link": true
    },
    "kernelspec": {
      "name": "python3",
      "display_name": "Python 3"
    }
  },
  "cells": [
    {
      "cell_type": "markdown",
      "metadata": {
        "id": "view-in-github",
        "colab_type": "text"
      },
      "source": [
        "<a href=\"https://colab.research.google.com/github/ryuta34/rakuten_API/blob/main/rakuten_API.ipynb\" target=\"_parent\"><img src=\"https://colab.research.google.com/assets/colab-badge.svg\" alt=\"Open In Colab\"/></a>"
      ]
    },
    {
      "cell_type": "code",
      "metadata": {
        "colab": {
          "base_uri": "https://localhost:8080/"
        },
        "id": "6NnExbzYhbet",
        "outputId": "1ef6e94d-9d72-458d-94bc-3cf0474befd3"
      },
      "source": [
        "import requests\r\n",
        "import json\r\n",
        "import codecs\r\n",
        "import pandas as pd\r\n",
        "\r\n",
        "# データをweb APIから取得するクラス\r\n",
        "class GetData():\r\n",
        "  def __init__(self, requestUrl):\r\n",
        "    self.requestUrl = requestUrl;\r\n",
        "\r\n",
        "  def sendRequest(self):\r\n",
        "    request = requests.get(self.requestUrl)\r\n",
        "    response = request.text\r\n",
        "    return response\r\n",
        "\r\n",
        "# 取得したjsonをdict型に変換するクラス\r\n",
        "class JsonToList():\r\n",
        "  def __init__(self, jsonData):\r\n",
        "    self.jsonData = jsonData;\r\n",
        "\r\n",
        "  def jsonToList(self):\r\n",
        "    listData = json.loads(self.jsonData)\r\n",
        "    return listData\r\n",
        "\r\n",
        "if __name__ == '__main__':\r\n",
        "  # URLのパラメータ設定\r\n",
        "  keyword = 'iPhone'\r\n",
        "  genreId = '560202'\r\n",
        "  applicationId = ''\r\n",
        "\r\n",
        "  # URLパターン (楽天市場商品検索、楽天市場製品検索)\r\n",
        "  IchibaItemUrl = f'https://app.rakuten.co.jp/services/api/IchibaItem/Search/20170706?format=json&keyword={keyword}&genreId={genreId}&applicationId={applicationId}'\r\n",
        "  IchibaProductUrl = f'https://app.rakuten.co.jp/services/api/Product/Search/20170426?format=json&keyword={keyword}&genreId={genreId}&applicationId={applicationId}'\r\n",
        "\r\n",
        "  # インスタンス化\r\n",
        "  getData = GetData(IchibaProductUrl)\r\n",
        "  # getDataのjson objectを変数に格納\r\n",
        "  jsonData = getData.sendRequest()\r\n",
        "\r\n",
        "  # JsonToListクラスのインスタンス化\r\n",
        "  jsonToListData = JsonToList(jsonData)\r\n",
        "\r\n",
        "  # jsonをdict型にして表示\r\n",
        "  dictData = jsonToListData.jsonToList()\r\n",
        "\r\n",
        "  # [Product page(楽天市場製品検索)のとき] URLを全件取得\r\n",
        "  for i in range(len(dictData['Products'])):\r\n",
        "     print(dictData['Products'][i]['Product']['productName']+ \" : \" +str(dictData['Products'][i]['Product']['salesMinPrice'])+\"円\")\r\n",
        "\r\n"
      ],
      "execution_count": null,
      "outputs": [
        {
          "output_type": "stream",
          "text": [
            "アップル iPhone12 mini 64GB ブルー au : 81210円\n",
            "アップル iPhone12 mini 128GB ブラック au : 69800円\n",
            "アップル iPhone12 Pro Max 256GB ゴールド au : 157700円\n",
            "アップル iPhone12 mini 64GB ホワイト au : 82123円\n",
            "アップル iPhone12 128GB ブルー SIMフリー : 103470円\n",
            "アップル iPhone12 Pro 512GB パシフィックブルー au : 156000円\n",
            "アップル iPhone12 Pro 256GB パシフィックブルー au : 119800円\n",
            "アップル iPhone12 Pro 128GB グラファイト SIMフリー : 119800円\n",
            "アップル iPhone12 256GB ホワイト au : 117180円\n",
            "アップル iPhone12 128GB ホワイト au : 101800円\n",
            "アップル iPhone11 128GB ブラック au : 59800円\n",
            "アップル iPhone11 Pro 64GB ゴールド au : 71800円\n",
            "アップル iPhone11 64GB イエロー au : 60321円\n",
            "アップル iPhone11 Pro 64GB シルバー au : 74247円\n",
            "アップル iPhone11 64GB ブラック au : 57200円\n",
            "アップル iPhone11 256GB レッド au : 75408円\n",
            "アップル iPhone8 64GB シルバー SIMフリー : 21800円\n",
            "アップル iPhone8 Plus 64GB スペースグレイ SIMフリー : 31800円\n",
            "アップル iPhone8 64GB ゴールド SIMフリー : 19500円\n",
            "アップル iPhone7 128GB ブラック SIMフリー : 15700円\n",
            "アップル iPhone7 32GB ローズゴールド SIMフリー : 13480円\n",
            "アップル iPhone6 16GB シルバー au : 6000円\n",
            "アップル iPhone6 16GB ゴールド softbank : 7056円\n",
            "アップル iPhone12 mini 128GB ブルー au : 87013円\n",
            "アップル iPhone12 mini 128GB レッド au : 93790円\n",
            "アップル iPhone12 Pro Max 128GB パシフィックブルー au : 123800円\n",
            "アップル iPhone12 mini 128GB グリーン au : 83500円\n",
            "アップル iPhone12 Pro Max 256GB パシフィックブルー au : 119800円\n",
            "アップル iPhone12 128GB レッド SIMフリー : 102790円\n",
            "アップル iPhone12 128GB ブルー au : 100078円\n"
          ],
          "name": "stdout"
        }
      ]
    }
  ]
}